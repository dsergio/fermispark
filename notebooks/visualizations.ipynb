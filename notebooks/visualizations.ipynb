{
 "cells": [
  {
   "cell_type": "markdown",
   "metadata": {},
   "source": [
    "# Fermispark Visualizations\n",
    "## Author: David Sergio\n",
    "## CSCD530 Big Data Analytics Project W2025\n",
    "## This notebook reads binned photon count data and constructs an image from the data after it's been converted to a numpy array"
   ]
  },
  {
   "cell_type": "code",
   "execution_count": 9,
   "metadata": {},
   "outputs": [],
   "source": [
    "\n",
    "import numpy as np\n",
    "from PIL import Image, ImageDraw\n",
    "import pandas as pd\n",
    "import matplotlib.pyplot as plt"
   ]
  },
  {
   "cell_type": "code",
   "execution_count": 10,
   "metadata": {},
   "outputs": [
    {
     "name": "stdout",
     "output_type": "stream",
     "text": [
      "(64383, 20)\n"
     ]
    }
   ],
   "source": [
    "\n",
    "f = 1\n",
    "\n",
    "grid_precision = 0\n",
    "bin_width_MeV = 10000\n",
    "max_energy_MeV = 400000\n",
    "filter_max_energy = True\n",
    "filter_max_energy_bins = 20\n",
    "\n",
    "file_name = f\"../output_data/output_binned_counts_precision_{grid_precision}_binwidth_{bin_width_MeV}_400000.csv\"\n",
    "\n",
    "df = pd.read_csv(file_name, sep=',', usecols=range(0, filter_max_energy_bins))\n",
    "\n",
    "print(df.shape)"
   ]
  },
  {
   "cell_type": "code",
   "execution_count": 11,
   "metadata": {},
   "outputs": [
    {
     "data": {
      "text/plain": [
       "64800"
      ]
     },
     "execution_count": 11,
     "metadata": {},
     "output_type": "execute_result"
    }
   ],
   "source": [
    "360 * 180"
   ]
  },
  {
   "cell_type": "code",
   "execution_count": 12,
   "metadata": {},
   "outputs": [
    {
     "name": "stdout",
     "output_type": "stream",
     "text": [
      "360 180 64800\n",
      "precision_0_binwidth_10000_400000\n"
     ]
    }
   ],
   "source": [
    "\n",
    "\n",
    "rows = 360 * (10 ** grid_precision)\n",
    "cols = 180 * (10 ** grid_precision)\n",
    "\n",
    "print(rows, cols, rows * cols)\n",
    "\n",
    "print(f\"precision_{grid_precision}_binwidth_{bin_width_MeV}_{max_energy_MeV}\")"
   ]
  },
  {
   "cell_type": "markdown",
   "metadata": {},
   "source": [
    "## Convert RA, DEC, to 2D pixels for image generation:\n",
    "### Currently working on implementation of a \"Curve\" feature. For now, it just stretches the image"
   ]
  },
  {
   "cell_type": "code",
   "execution_count": 13,
   "metadata": {},
   "outputs": [],
   "source": [
    "def convert_RA_DEC_to_pixel(RA, DEC, curve = False):\n",
    "    if curve:\n",
    "        RA = (RA -0)  * np.cos(np.deg2rad(DEC))\n",
    "\n",
    "    RA_pixel = int(RA * 10 ** grid_precision) + 3\n",
    "    DEC_pixel = int((DEC + 90) * 10 ** grid_precision) + 3\n",
    "\n",
    "    return RA_pixel, DEC_pixel"
   ]
  },
  {
   "cell_type": "code",
   "execution_count": 14,
   "metadata": {},
   "outputs": [
    {
     "name": "stdout",
     "output_type": "stream",
     "text": [
      "(360, 180, 4)\n"
     ]
    }
   ],
   "source": [
    "\n",
    "\n",
    "n_df_columns = len(df.columns)\n",
    "\n",
    "if filter_max_energy:\n",
    "    energy_buckets = filter_max_energy_bins - 2\n",
    "    energy_bucket_groups = energy_buckets // 3\n",
    "else:\n",
    "    energy_buckets = n_df_columns - 2\n",
    "    energy_bucket_groups = energy_buckets // 10\n",
    "\n",
    "array = np.zeros((rows, cols, 4), dtype=np.uint8)\n",
    "array[:, :, 3] = 255\n",
    "\n",
    "print(array.shape)\n"
   ]
  },
  {
   "cell_type": "markdown",
   "metadata": {},
   "source": [
    "## First make one pass through the data to find the maximum values for normalization\n",
    "### Note: this is a work in progress, and there are several improvements that could be implemented here. This is only for demo purposes"
   ]
  },
  {
   "cell_type": "code",
   "execution_count": 15,
   "metadata": {},
   "outputs": [
    {
     "name": "stdout",
     "output_type": "stream",
     "text": [
      "5023.0 9.0 3.0\n"
     ]
    }
   ],
   "source": [
    "\n",
    "red_max = 255\n",
    "green_max = 255\n",
    "blue_max = 255\n",
    "\n",
    "red_max_val = 0\n",
    "green_max_val = 0\n",
    "blue_max_val = 0\n",
    "\n",
    "nrows = 0\n",
    "\n",
    "for index, row in df.iterrows():\n",
    "\n",
    "    RA = row['RA']\n",
    "    DEC = row['DEC']\n",
    "\n",
    "    RA_pixel = int(RA * f) + 3\n",
    "    DEC_pixel = int((DEC + 90) * f) + 3\n",
    "\n",
    "    red = 0\n",
    "    green = 0\n",
    "    blue = 0\n",
    "\n",
    "    row_sum = row.iloc[2:].sum()\n",
    "\n",
    "    red = row.iloc[2:2 + energy_bucket_groups*1].sum()\n",
    "    green = row.iloc[2 + energy_bucket_groups*1:2+energy_bucket_groups*2].sum()\n",
    "    blue = row.iloc[2 + energy_bucket_groups*2:2+energy_bucket_groups*3].sum() \n",
    "    \n",
    "    red_max_val = max(red_max_val, red)\n",
    "    green_max_val = max(green_max_val, green)\n",
    "    blue_max_val = max(blue_max_val, blue)\n",
    "\n",
    "    nrows += 1\n",
    "\n",
    "print(red_max_val, green_max_val, blue_max_val)\n"
   ]
  },
  {
   "cell_type": "markdown",
   "metadata": {},
   "source": [
    "## Convert the data to an image:"
   ]
  },
  {
   "cell_type": "code",
   "execution_count": 16,
   "metadata": {},
   "outputs": [
    {
     "name": "stdout",
     "output_type": "stream",
     "text": [
      "index:  0 RGB:  8.0 0.0 0.0 RA, DEC:  0.0 -89.0 RA_pixel, DEC_pixel:  3 4 RGB MAx:  5023.0 9.0 3.0\n",
      "index:  6438 RGB:  169.0 1.0 0.0 RA, DEC:  321.0 -72.0 RA_pixel, DEC_pixel:  324 21 RGB MAx:  5023.0 9.0 3.0\n",
      "index:  12876 RGB:  255 3.0 0.0 RA, DEC:  279.0 -54.0 RA_pixel, DEC_pixel:  282 39 RGB MAx:  5023.0 9.0 3.0\n",
      "index:  19314 RGB:  53.0 0.0 0.0 RA, DEC:  237.0 -36.0 RA_pixel, DEC_pixel:  240 57 RGB MAx:  5023.0 9.0 3.0\n",
      "index:  25752 RGB:  25.0 0.0 0.0 RA, DEC:  195.0 -18.0 RA_pixel, DEC_pixel:  198 75 RGB MAx:  5023.0 9.0 3.0\n",
      "index:  32190 RGB:  23.0 0.0 0.0 RA, DEC:  153.0 0.0 RA_pixel, DEC_pixel:  156 93 RGB MAx:  5023.0 9.0 3.0\n",
      "index:  38628 RGB:  3.0 0.0 0.0 RA, DEC:  114.0 18.0 RA_pixel, DEC_pixel:  117 111 RGB MAx:  5023.0 9.0 3.0\n",
      "index:  45066 RGB:  46.0 0.0 0.0 RA, DEC:  72.0 36.0 RA_pixel, DEC_pixel:  75 129 RGB MAx:  5023.0 9.0 3.0\n",
      "index:  51504 RGB:  23.0 0.0 0.0 RA, DEC:  30.0 54.0 RA_pixel, DEC_pixel:  33 147 RGB MAx:  5023.0 9.0 3.0\n",
      "index:  57942 RGB:  43.0 1.0 0.0 RA, DEC:  348.0 71.0 RA_pixel, DEC_pixel:  351 164 RGB MAx:  5023.0 9.0 3.0\n",
      "index:  64380 RGB:  1.0 0.0 0.0 RA, DEC:  354.0 89.0 RA_pixel, DEC_pixel:  357 182 RGB MAx:  5023.0 9.0 3.0\n",
      "saved gamma_image_0_binwidth_10000_400000.png\n"
     ]
    }
   ],
   "source": [
    "\n",
    "magnify = 1\n",
    "\n",
    "interval = nrows // 10\n",
    "\n",
    "for index, row in df.iterrows():\n",
    "\n",
    "    RA = float(row['RA'])\n",
    "    DEC = float(row['DEC'])\n",
    "\n",
    "    \n",
    "\n",
    "\n",
    "    RA_pixel, DEC_pixel = convert_RA_DEC_to_pixel(RA, DEC, curve=False)\n",
    "\n",
    "    red = 0\n",
    "    green = 0\n",
    "    blue = 0\n",
    "\n",
    "    row_sum = row.iloc[2:].sum()\n",
    "\n",
    "    energy_bucket_groups = 1\n",
    "    red = min(255, row.iloc[2:2 + energy_bucket_groups].sum() * magnify)\n",
    "    green = min(255, row.iloc[2 + energy_bucket_groups*1:2+energy_bucket_groups*2 + 5].sum() * magnify)\n",
    "    blue = min(255, row.iloc[2 + energy_bucket_groups*2 + 5:2+energy_bucket_groups*3].sum() * magnify)\n",
    "\n",
    "    # red = int(red / red_max_val * red_max)\n",
    "    # green = int(green / green_max_val * green_max)\n",
    "    # blue = int(blue / blue_max_val * blue_max)\n",
    "\n",
    "    alpha = 255\n",
    "\n",
    "    red_radius = 1\n",
    "    green_radius = 1\n",
    "    blue_radius = 1\n",
    "    alpha_radius = 1\n",
    "\n",
    "    array[RA_pixel-red_radius:RA_pixel+red_radius, DEC_pixel-red_radius:DEC_pixel+red_radius, 0] = red\n",
    "\n",
    "    array[RA_pixel-green_radius:RA_pixel+green_radius, DEC_pixel-green_radius:DEC_pixel+green_radius, 1] = green\n",
    "\n",
    "    array[RA_pixel-blue_radius:RA_pixel+blue_radius, DEC_pixel-blue_radius:DEC_pixel+blue_radius, 2] = blue\n",
    "\n",
    "    array[RA_pixel-alpha_radius:RA_pixel+alpha_radius, DEC_pixel-alpha_radius:DEC_pixel+alpha_radius, 3] = alpha\n",
    "\n",
    "    # array[RA_pixel-3:RA_pixel+3, DEC_pixel-3:DEC_pixel+3] = [red, green, blue]\n",
    "    \n",
    "\n",
    "    if (index % interval == 0):\n",
    "        print(\"index: \", index, \"RGB: \", red, green, blue, \"RA, DEC: \", RA, DEC, \"RA_pixel, DEC_pixel: \", RA_pixel, DEC_pixel, \"RGB MAx: \", red_max_val, green_max_val, blue_max_val)\n",
    "\n",
    "# np.savetxt('gamma_image.csv', np.mean(array, axis=2), delimiter=',')\n",
    "img = Image.fromarray(array)\n",
    "\n",
    "\n",
    "center_x = convert_RA_DEC_to_pixel(128, -45)[0]\n",
    "center_y = convert_RA_DEC_to_pixel(128, -45)[1]\n",
    "\n",
    "radius = cols // 20\n",
    "\n",
    "# The bounding box for the ellipse is [left, top, right, bottom].\n",
    "bbox = [center_x - radius, center_y - radius, center_x + radius, center_y + radius]\n",
    "\n",
    "draw = ImageDraw.Draw(img)\n",
    "draw.ellipse(bbox, outline='white', width=1)\n",
    "\n",
    "print(f\"saved gamma_image_{grid_precision}_binwidth_{bin_width_MeV}_{max_energy_MeV}.png\")\n",
    "img.save(f\"gamma_image_{grid_precision}_binwidth_{bin_width_MeV}_{max_energy_MeV}.png\")\n",
    "# img.show()"
   ]
  }
 ],
 "metadata": {
  "kernelspec": {
   "display_name": "fermipy3",
   "language": "python",
   "name": "python3"
  },
  "language_info": {
   "codemirror_mode": {
    "name": "ipython",
    "version": 3
   },
   "file_extension": ".py",
   "mimetype": "text/x-python",
   "name": "python",
   "nbconvert_exporter": "python",
   "pygments_lexer": "ipython3",
   "version": "3.9.21"
  }
 },
 "nbformat": 4,
 "nbformat_minor": 2
}
